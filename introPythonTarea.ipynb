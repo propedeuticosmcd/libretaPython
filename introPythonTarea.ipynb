{
  "cells": [
    {
      "cell_type": "markdown",
      "metadata": {
        "id": "JxlM5zL0MrU_"
      },
      "source": [
        "<a href=\"https://colab.research.google.com/github/mcd-unison/material-programacion/blob/main/intro-python.ipynb\" target=\"_parent\"><img src=\"https://colab.research.google.com/assets/colab-badge.svg\" alt=\"Open In Colab\"/></a>"
      ]
    },
    {
      "cell_type": "markdown",
      "metadata": {
        "id": "ERo81_wuMrVD"
      },
      "source": [
        "<center>\n",
        "<p><img src=\"https://mcd.unison.mx/wp-content/themes/awaken/img/logo_mcd.png\" width=\"100\">\n",
        "</p>\n",
        "\n",
        "\n",
        "\n",
        "# Curso Propedéutico en *Programación*\n",
        "\n",
        "## Introducción a `python` resolviendo preguntas\n",
        "\n",
        "\n",
        "**Julio Waissman Vilanova**\n",
        "\n"
      ]
    },
    {
      "cell_type": "markdown",
      "metadata": {
        "id": "GbVaLP1iMrVD"
      },
      "source": [
        "### Tipos\n",
        "\n",
        "¿Cuales son los tipos de datos básicos? Revisa los tipos siguientes:\n",
        "\n",
        "1. Tipos numéricos `int`, `float`, `complex`\n",
        "2. Cadenas de caracteres\n",
        "3. Tuplas\n",
        "4. Listas\n",
        "5. Diccionarios\n",
        "6. Conjuntos\n",
        "\n",
        "Da ejemplo de sobrecarga de operadores (en particular `+` y `*`)\n",
        "\n"
      ]
    },
    {
      "cell_type": "markdown",
      "source": [
        "**->Tipos de datos básicos:** int , float , str"
      ],
      "metadata": {
        "id": "FX73WotSG3rT"
      }
    },
    {
      "cell_type": "code",
      "source": [
        "class Articulo:\n",
        "    def __init__(self, costo, iva):\n",
        "        self.costo = costo\n",
        "        self.iva = iva\n",
        "        self.precioUnitario = costo + iva\n",
        "\n",
        "    # Sobrecarga del operador de suma (+)\n",
        "    def __add__(self, other):\n",
        "        return self.precioUnitario + other.precioUnitario\n",
        "\n",
        "    # Sobrecarga del operador de multiplicación (*)\n",
        "    # --La funcionalidad no es nada práctica pero es un ejemplo de sobrecarga de operadores\n",
        "    # regresa el precio unitario por un scalar, como si llevaras x-cantidad de un mismo articulos\n",
        "    def __mul__(self, scalar):\n",
        "        return self.precioUnitario * scalar\n",
        "\n",
        "# Se generan dos objetos de tipo Articulo\n",
        "artUno = Articulo(12, 4)\n",
        "artDos = Articulo(10, 2)\n",
        "\n",
        "# Suma de precios unitarios de dos articulos\n",
        "sumaPrecios = artUno + artDos\n",
        "print(\"Suma de precios de una compra:\", sumaPrecios)\n",
        "\n",
        "# Multiplicar el precio unitario por un scalar\n",
        "suma_ = artUno * 2\n",
        "print(\"Multiplicación por un escalar: \", suma_)"
      ],
      "metadata": {
        "colab": {
          "base_uri": "https://localhost:8080/"
        },
        "id": "L0YyGeXj7TTq",
        "outputId": "bcef58df-5ea8-4444-e38c-f6c0550e42b4"
      },
      "execution_count": 15,
      "outputs": [
        {
          "output_type": "stream",
          "name": "stdout",
          "text": [
            "Suma de precios de una compra: 28\n",
            "Multiplicación por un escalar:  32\n"
          ]
        }
      ]
    },
    {
      "cell_type": "markdown",
      "source": [
        "**Tipos de datos básicos:**\n",
        "\n",
        "  * int , float , str , Nan   "
      ],
      "metadata": {
        "id": "rCX8Dsx9q1lC"
      }
    },
    {
      "cell_type": "markdown",
      "metadata": {
        "id": "b8SQe0FxMrVE"
      },
      "source": [
        "¿Que significa que unos tipos sean *mutables* y otros *inmutables*?\n",
        "\n",
        "Realiza un pequeño programa donde quede claro lo que significa que un tipo de datos sea mutable, e ilustra el uso del método `copy.deepcopy()`."
      ]
    },
    {
      "cell_type": "markdown",
      "source": [
        "*   **Tipo mutables:**\n",
        "Los objetos mutables son los que pueden ser modificados después de ser creados. Puedes cambiar su valor sin tener que crear un nuevo objeto.\n",
        "*   **Tipos inmutables:**\n",
        "Los objetos inmutables son aquellos que no pueden ser modificados una vez creados. Cualquier operación que parezca modificar un objeto inmutable realmente creará un nuevo objeto con el nuevo valor."
      ],
      "metadata": {
        "id": "rQE7Fz7arrKF"
      }
    },
    {
      "cell_type": "code",
      "source": [
        "import copy\n",
        "\n",
        "# Lista original (una lista de listas)\n",
        "listaInicial = [1, 2, 3, 4, 5, 6, 7, 8, 9]\n",
        "\n",
        "# Haciendo una copia profunda\n",
        "listaCopia = copy.deepcopy(listaInicial)\n",
        "\n",
        "# Modificando la copia profunda\n",
        "listaCopia[0] = 10\n",
        "\n",
        "# Imprimiendo ambas listas para mostrar que son independientes\n",
        "print(\"Lista original:\")\n",
        "print(listaInicial)\n",
        "print(\"Lista genrada por la copia profunda:\")\n",
        "print(listaCopia)"
      ],
      "metadata": {
        "colab": {
          "base_uri": "https://localhost:8080/"
        },
        "id": "EqEEhuVhsxG2",
        "outputId": "85d40677-e90c-4330-a6ba-2e627017256d"
      },
      "execution_count": 16,
      "outputs": [
        {
          "output_type": "stream",
          "name": "stdout",
          "text": [
            "Lista original:\n",
            "[1, 2, 3, 4, 5, 6, 7, 8, 9]\n",
            "Lista genrada por la copia profunda:\n",
            "[10, 2, 3, 4, 5, 6, 7, 8, 9]\n"
          ]
        }
      ]
    },
    {
      "cell_type": "markdown",
      "metadata": {
        "id": "g9dSyoF6MrVE"
      },
      "source": [
        "### *Comprehension* de listas, conjuntos y diccionarios\n",
        "\n",
        "Escribe, en una sola linea, una expresión que genere una lista con todos los números enteros que se encuentran entre $1$ y $n$\n",
        "que sean divisibles por $3$ y $7$ y que el dígito menos significativo del número sea $6$."
      ]
    },
    {
      "cell_type": "code",
      "execution_count": 17,
      "metadata": {
        "id": "VDeE2ReyMrVF",
        "colab": {
          "base_uri": "https://localhost:8080/"
        },
        "outputId": "a99d7d0e-7363-45ae-8c39-e1c3c9bee57a"
      },
      "outputs": [
        {
          "output_type": "stream",
          "name": "stdout",
          "text": [
            "[126, 336, 546, 756, 966, 1176, 1386, 1596, 1806, 2016, 2226, 2436, 2646, 2856, 3066, 3276, 3486, 3696, 3906, 4116, 4326, 4536, 4746, 4956, 5166, 5376, 5586, 5796, 6006, 6216, 6426, 6636, 6846, 7056, 7266, 7476, 7686, 7896, 8106, 8316, 8526, 8736, 8946, 9156, 9366, 9576, 9786, 9996]\n"
          ]
        }
      ],
      "source": [
        "n = 10_000\n",
        "# Escribe aqui el *one linner*\n",
        "lista = [i for i in range(1, n+1) if i % 3 == 0 and i % 7 == 0 and str(i)[-1] == '6']\n",
        "print(lista)"
      ]
    },
    {
      "cell_type": "markdown",
      "metadata": {
        "id": "ZGL78HY7MrVG"
      },
      "source": [
        "### Funciones\n",
        "\n",
        "Escribe una función que:\n",
        "\n",
        "1. reciba una lista de elementos (letras, números, lo que sea),\n",
        "2. cuente la ocurrencia de cada elemento en la lista,\n",
        "3. devuelva las ocurrencias en forma de diccionario,\n",
        "4. si imprime es True, imprima un histograma de ocurrencias, por ejemplo:\n",
        "\n",
        "```python\n",
        "\n",
        "lista = [1,'a',1, 13, 'hola', 'a', 1, 1, 'a', 1]\n",
        "\n",
        "d = funcion_ejemplo(lista, imprime = True)\n",
        "\n",
        "1    \t\t***** \t(5 -> 50%)\n",
        "'a'  \t\t***   \t(3 -> 30%)\n",
        "13\t\t*\t(1 -> 10%)\n",
        "'hola'\t\t*\t(1 -> 10%)\n",
        "\n",
        "```"
      ]
    },
    {
      "cell_type": "code",
      "execution_count": 18,
      "metadata": {
        "id": "hW1Yvmt0MrVG"
      },
      "outputs": [],
      "source": [
        "# Escribe la función aquí\n",
        "def funcionEjemplo(lista, imprime = False) -> dict:\n",
        "\n",
        "  diccionario = {}\n",
        "\n",
        "  for i in lista:\n",
        "    if i in diccionario:\n",
        "      diccionario[i] += 1\n",
        "    else:\n",
        "      diccionario[i] = 1\n",
        "\n",
        "  if imprime:\n",
        "\n",
        "    cantTotal = len(lista)\n",
        "\n",
        "    for key, value in diccionario.items():\n",
        "      porcentaje = (value / cantTotal) * 100\n",
        "      print(f\"{key}    {'*' * value}  ({value} -> {porcentaje} %)\")"
      ]
    },
    {
      "cell_type": "code",
      "execution_count": 19,
      "metadata": {
        "id": "Flxi_CPMMrVG",
        "colab": {
          "base_uri": "https://localhost:8080/"
        },
        "outputId": "fe282e79-a348-4835-85fe-2d0856bb5a81"
      },
      "outputs": [
        {
          "output_type": "stream",
          "name": "stdout",
          "text": [
            "1    *****  (5 -> 50.0 %)\n",
            "a    ***  (3 -> 30.0 %)\n",
            "13    *  (1 -> 10.0 %)\n",
            "hola    *  (1 -> 10.0 %)\n"
          ]
        }
      ],
      "source": [
        "# Realiza pruebas aquí\n",
        "lista = [1,'a',1, 13, 'hola', 'a', 1, 1, 'a', 1]\n",
        "funcionEjemplo(lista, imprime = True)"
      ]
    },
    {
      "cell_type": "markdown",
      "metadata": {
        "id": "xqIpZJv6MrVG"
      },
      "source": [
        "Escribe una función que modifique un diccionario y regrese el diccionario modificado y una copia del original, donde cada entrada\n",
        "del diccionario sea una lista de valores. Ten en cuenta que si una entrada del diccionario es de tipo mutable, al modificarlo en la\n",
        "copia se modifica el original. Utiliza el modulo `copy` para evitar este problema. Ejemplo de la función:\n",
        "\n",
        "```python\n",
        "dic1 = {'Pepe':[12, 'enero', 1980], 'Carolina':[15,'mayo',1975],'Paco':[10,'nov',1970]}\n",
        "dic2 = fundicos(dic1, 'Pepe', 1, 'febrero')\n",
        "\n",
        "print(dic1)\n",
        "{'Pepe':[12, 'enero', 1980], 'Carolina':[15,'mayo',1975],'Paco':[10,'nov',1970]}\n",
        "\n",
        "print(dic2)\n",
        "{'Pepe':[12, 'febrero', 1980], 'Carolina':[15,'mayo',1975],'Paco':[10,'nov',1970]}\n",
        "```"
      ]
    },
    {
      "cell_type": "code",
      "execution_count": 20,
      "metadata": {
        "id": "rzz6up0HMrVH"
      },
      "outputs": [],
      "source": [
        "# Escribe la función fundicos aquí\n",
        "import copy\n",
        "\n",
        "def fundicos(dict_ , nombre, posicion, newMes):\n",
        "\n",
        "  newDict = copy.deepcopy(dict_)\n",
        "\n",
        "  for k, v in newDict.items():\n",
        "\n",
        "    if k == nombre:\n",
        "      v[posicion] = newMes\n",
        "      newDict[k] = v\n",
        "\n",
        "  return newDict"
      ]
    },
    {
      "cell_type": "code",
      "execution_count": 21,
      "metadata": {
        "id": "BKlt47cqMrVH",
        "colab": {
          "base_uri": "https://localhost:8080/"
        },
        "outputId": "b0d87cfb-fdd0-46d8-a879-6af32f9b544b"
      },
      "outputs": [
        {
          "output_type": "stream",
          "name": "stdout",
          "text": [
            "{'Pepe': [12, 'enero', 1980], 'Carolina': [15, 'mayo', 1975], 'Paco': [10, 'nov', 1970]}\n",
            "{'Pepe': [12, 'febrero', 1980], 'Carolina': [15, 'mayo', 1975], 'Paco': [10, 'nov', 1970]}\n"
          ]
        }
      ],
      "source": [
        "# Realiza pruebas de fundicos aquí\n",
        "dic1 = {'Pepe':[12, 'enero', 1980], 'Carolina':[15,'mayo',1975],'Paco':[10,'nov',1970]}\n",
        "dic2 = fundicos(dic1, 'Pepe', 1, 'febrero')\n",
        "\n",
        "print(dic1)\n",
        "print(dic2)"
      ]
    },
    {
      "cell_type": "markdown",
      "metadata": {
        "id": "vWBFo9huMrVH"
      },
      "source": [
        "### Generadores\n",
        "\n",
        "Escribe un generador que reciba una lista y genere todas las permutaciones que se puedan hacer con los elementos de la lista"
      ]
    },
    {
      "cell_type": "code",
      "execution_count": 22,
      "metadata": {
        "id": "YWeII-iRMrVH"
      },
      "outputs": [],
      "source": [
        "# Escribe aqui fun1\n",
        "def permutaciones(lista):\n",
        "    \"\"\"\n",
        "    Permutaciones de los elementos de una lista.\n",
        "    Devuelve un generador con todas las permutaciones posibles de los elementos de la lista de entrada\n",
        "    \"\"\"\n",
        "    # Caso base: si la lista es de longitud 0 o 1, devuelve la lista como única permutación\n",
        "    if len(lista) <= 1:\n",
        "        yield lista\n",
        "    else:\n",
        "        # Itera sobre todos los elementos de la lista\n",
        "        for i in range(len(lista)):\n",
        "            # Fija el primer elemento como el elemento actual\n",
        "            primerElemento = lista[i]\n",
        "\n",
        "            # Genera todas las permutaciones de los elementos restantes\n",
        "            permutacionesRestantes = permutaciones(lista[:i] + lista[i+1:])\n",
        "\n",
        "            # Combina el primer elemento con cada permutación de los elementos restantes\n",
        "            for n in permutacionesRestantes:\n",
        "                yield [primerElemento] + n"
      ]
    },
    {
      "cell_type": "code",
      "execution_count": 23,
      "metadata": {
        "id": "Y_3lTCX6MrVH",
        "colab": {
          "base_uri": "https://localhost:8080/"
        },
        "outputId": "b34ac94a-e991-4e8b-a329-4715baf918ff"
      },
      "outputs": [
        {
          "output_type": "stream",
          "name": "stdout",
          "text": [
            "['a', 'b', 'c', 'd']\n",
            "['a', 'b', 'd', 'c']\n",
            "['a', 'c', 'b', 'd']\n",
            "['a', 'c', 'd', 'b']\n",
            "['a', 'd', 'b', 'c']\n",
            "['a', 'd', 'c', 'b']\n",
            "['b', 'a', 'c', 'd']\n",
            "['b', 'a', 'd', 'c']\n",
            "['b', 'c', 'a', 'd']\n",
            "['b', 'c', 'd', 'a']\n",
            "['b', 'd', 'a', 'c']\n",
            "['b', 'd', 'c', 'a']\n",
            "['c', 'a', 'b', 'd']\n",
            "['c', 'a', 'd', 'b']\n",
            "['c', 'b', 'a', 'd']\n",
            "['c', 'b', 'd', 'a']\n",
            "['c', 'd', 'a', 'b']\n",
            "['c', 'd', 'b', 'a']\n",
            "['d', 'a', 'b', 'c']\n",
            "['d', 'a', 'c', 'b']\n",
            "['d', 'b', 'a', 'c']\n",
            "['d', 'b', 'c', 'a']\n",
            "['d', 'c', 'a', 'b']\n",
            "['d', 'c', 'b', 'a']\n"
          ]
        }
      ],
      "source": [
        "# Realiza pruebas de fun2 aquí\n",
        "for p in permutaciones(['a', 'b', 'c', 'd']):\n",
        "    print(p)"
      ]
    },
    {
      "cell_type": "markdown",
      "metadata": {
        "id": "XXFNkRc0MrVH"
      },
      "source": [
        "Ahora escribe una funcipn que reciba 4 digitos del 0 al 9, y devuelva una lista con todas las horas váidas que se puedan hacer con estos dígitos en forma de lista de strings con la forma `\"HH:MM\"`."
      ]
    },
    {
      "cell_type": "code",
      "execution_count": 24,
      "metadata": {
        "id": "bxvAnLl-MrVI"
      },
      "outputs": [],
      "source": [
        "def horas_validas(lista):\n",
        "    \"\"\"\n",
        "      Método genera todas las horas válidas que se pueden hacer \\\n",
        "      con los dígitos de la lista utilizando el formato de 24 hrs.\n",
        "    \"\"\"\n",
        "    horas = []\n",
        "    minutos = []\n",
        "    horasValidas = []\n",
        "\n",
        "    for i in lista:\n",
        "\n",
        "      for k in lista:\n",
        "\n",
        "        concatenacion = str(i) + str(k)\n",
        "\n",
        "        if int(concatenacion) < 24:\n",
        "          horas.append(concatenacion)\n",
        "        if int(concatenacion) < 60:\n",
        "          minutos.append(concatenacion)\n",
        "\n",
        "    for h in horas:\n",
        "\n",
        "      for m in minutos:\n",
        "        horasValidas.append(h + ':' + m)\n",
        "\n",
        "    return horasValidas"
      ]
    },
    {
      "cell_type": "code",
      "execution_count": 25,
      "metadata": {
        "id": "EWbNLtB7MrVI",
        "colab": {
          "base_uri": "https://localhost:8080/"
        },
        "outputId": "036b579c-357a-476f-b855-4a97f7c1055d"
      },
      "outputs": [
        {
          "output_type": "stream",
          "name": "stdout",
          "text": [
            "['11:11', '11:12', '11:13', '11:14', '11:21', '11:22', '11:23', '11:24', '11:31', '11:32', '11:33', '11:34', '11:41', '11:42', '11:43', '11:44', '12:11', '12:12', '12:13', '12:14', '12:21', '12:22', '12:23', '12:24', '12:31', '12:32', '12:33', '12:34', '12:41', '12:42', '12:43', '12:44', '13:11', '13:12', '13:13', '13:14', '13:21', '13:22', '13:23', '13:24', '13:31', '13:32', '13:33', '13:34', '13:41', '13:42', '13:43', '13:44', '14:11', '14:12', '14:13', '14:14', '14:21', '14:22', '14:23', '14:24', '14:31', '14:32', '14:33', '14:34', '14:41', '14:42', '14:43', '14:44', '21:11', '21:12', '21:13', '21:14', '21:21', '21:22', '21:23', '21:24', '21:31', '21:32', '21:33', '21:34', '21:41', '21:42', '21:43', '21:44', '22:11', '22:12', '22:13', '22:14', '22:21', '22:22', '22:23', '22:24', '22:31', '22:32', '22:33', '22:34', '22:41', '22:42', '22:43', '22:44', '23:11', '23:12', '23:13', '23:14', '23:21', '23:22', '23:23', '23:24', '23:31', '23:32', '23:33', '23:34', '23:41', '23:42', '23:43', '23:44']\n"
          ]
        }
      ],
      "source": [
        "print(horas_validas([1,2,3,4]))"
      ]
    },
    {
      "cell_type": "markdown",
      "metadata": {
        "id": "p9bueZeoMrVI"
      },
      "source": [
        "Escribe una función, lo más compacta posible, que escoja entre los 3 patrones ascii a continuación, e imprima en pantalla\n",
        "el deseado, pero de dimensión $n$ ($n \\ge 4$), toma en cuanta que para algunos valores de $n$ habrá\n",
        "algún(os) patrones que no se puedan hacer.\n",
        "\n",
        "```\n",
        "          *             ++++           oooooooo\n",
        "          **            ++++           ooo  ooo\n",
        "          ***           ++++           oo    oo\n",
        "          ****          ++++           o      o\n",
        "          *****             ++++       o      o\n",
        "          ******            ++++       oo    oo\n",
        "          *******           ++++       ooo  ooo\n",
        "          ********          ++++       oooooooo\n",
        "\n",
        "```"
      ]
    },
    {
      "cell_type": "code",
      "execution_count": 26,
      "metadata": {
        "id": "Xjr8jSTtMrVI"
      },
      "outputs": [],
      "source": [
        "# Escribe aquí la función\n",
        "def generarPatron(figura, n):\n",
        "\n",
        "    if n < 4:\n",
        "        return \"n debe ser mayor o igual a 4\"\n",
        "\n",
        "    if figura == 'estrella':\n",
        "        print('\\n'.join(['*' * i for i in range(1, n+1)]))\n",
        "    elif figura == 'mas':\n",
        "        print('\\n'.join(['+' * n for _ in range(n)]))\n",
        "    elif figura == 'circulo' and n % 2 == 0:\n",
        "        print('\\n'.join(['o' * n if i in {0, n-1} else 'o' * (n//2 - i % (n//2)) + ' ' * (2 * (i % (n//2))) + 'o' * (n//2 - i % (n//2)) for i in range(n)]))\n",
        "    else:\n",
        "        return \"Patrón no válido para el valor de n\"\n"
      ]
    },
    {
      "cell_type": "code",
      "execution_count": 27,
      "metadata": {
        "id": "64KaMEeSMrVI",
        "colab": {
          "base_uri": "https://localhost:8080/"
        },
        "outputId": "c207b84c-8a62-462d-ba44-26da5d38de93"
      },
      "outputs": [
        {
          "output_type": "stream",
          "name": "stdout",
          "text": [
            "*\n",
            "**\n",
            "***\n",
            "****\n",
            "*****\n",
            "++++++\n",
            "++++++\n",
            "++++++\n",
            "++++++\n",
            "++++++\n",
            "++++++\n",
            "oooooooo\n",
            "ooo  ooo\n",
            "oo    oo\n",
            "o      o\n",
            "oooooooo\n",
            "ooo  ooo\n",
            "oo    oo\n",
            "oooooooo\n"
          ]
        }
      ],
      "source": [
        "#Realiza pruebas aquí\n",
        "generarPatron('estrella', 5)\n",
        "generarPatron('mas', 6)\n",
        "generarPatron('circulo', 8)"
      ]
    },
    {
      "cell_type": "markdown",
      "metadata": {
        "id": "zzbr-_tRMrVI"
      },
      "source": [
        "### Clases y objetos\n",
        "\n",
        "Diseña una clase Matriz con las siguientes características:\n",
        "\n",
        "1. Como inicialización de un objeto es necesario conocer $n$, $m$ y tipo. En caso de no proporcionar $m$ la matriz se asume cuadrada de $n \\times n$. En caso de no proporcionar $n$ la matriz tendrá una dimensión de $1 \\times 1$.\n",
        "2. De no especificarse todos los elementos se inicializan a 0, a menos que exista un tipo especial ( `unos` o `diag` por el momento).\n",
        "3. Implementa con sobrecarga la suma de matrices, la multiplicación de matrices y la multiplicación por un escalar.\n",
        "4. Implementa como métodos eliminar columna y eliminar fila.   \n",
        "5. Programa la representación visual de la matriz.\n",
        "6. Ten en cuenta tambien el manejo de errores.\n",
        "\n",
        "\n",
        "Ejemplo de uso:\n",
        "\n",
        "```\n",
        ">>> A = Matriz(n=3, m=4)\n",
        "\n",
        ">>> print(A)\n",
        "0 0 0 0\n",
        "0 0 0 0\n",
        "0 0 0 0\n",
        "\n",
        ">>> A = A.quitafila(2)\n",
        "\n",
        ">>> print(A)\n",
        "0 0 0 0\n",
        "0 0 0 0\n",
        "\n",
        ">>> B = Matriz(4,4,'diag')\n",
        "\n",
        ">>> print(B)\n",
        "1 0 0 0\n",
        "0 1 0 0\n",
        "0 0 1 0\n",
        "0 0 0 1\n",
        "\n",
        ">>> C = Matriz(4,1,'unos')\n",
        "\n",
        ">>> print(C)\n",
        "1\n",
        "1\n",
        "1\n",
        "1\n",
        "\n",
        ">>> D = 3 * B * C\n",
        "\n",
        ">>> print(D)\n",
        "3\n",
        "3\n",
        "3\n",
        "3\n",
        "\n",
        ">>> E = 3 * B + C\n",
        "error \"No seas menso, si no son de la misma dimensión las matrices no se pueden sumar\"\n",
        "```"
      ]
    },
    {
      "cell_type": "code",
      "execution_count": 28,
      "metadata": {
        "id": "JiQr7gBYMrVJ"
      },
      "outputs": [],
      "source": [
        "class Matriz:\n",
        "    def __init__(self, n=1, m=None, tipo= \"zeros\"):\n",
        "        self.n = n\n",
        "        self.m = m if m is not None else n\n",
        "        self.tipo = tipo\n",
        "        self.matriz = self._initialize_matriz()\n",
        "\n",
        "    def _initialize_matriz(self):\n",
        "        try:\n",
        "          if self.tipo == \"unos\":\n",
        "            return [[1] * self.m for _ in range(self.n)]\n",
        "          elif self.tipo == \"diag\":\n",
        "            return [[1 if i == j else 0 for j in range(self.m)] for i in range(self.n)]\n",
        "          else:\n",
        "            return [[0] * self.m for _ in range(self.n)]\n",
        "        except TypeError as e:\n",
        "            print(f\"Error: {e}\")\n",
        "\n",
        "    def __str__(self):\n",
        "        return '\\n'.join([' '.join(map(str, row)) for row in self.matriz])\n",
        "\n",
        "    def __add__(self, other):\n",
        "        try:\n",
        "          if isinstance(other, Matriz) and (self.n, self.m) == (other.n, other.m):\n",
        "            result = Matriz(self.n, self.m)\n",
        "            result.matriz = [[self.matriz[i][j] + other.matriz[i][j] for j in range(self.m)] for i in range(self.n)]\n",
        "            return result\n",
        "          else:\n",
        "            print(\"Las matrices no son del mismo tamaño\")\n",
        "            #raise ValueError(\"Matrices no son des mismo tamaño.\")\n",
        "        except TypeError as e:\n",
        "            print(f\"Error: {e}\")\n",
        "\n",
        "    def quitafila(self, row_index):\n",
        "        try:\n",
        "          if 0 <= row_index < self.n:\n",
        "            del self.matriz[row_index]\n",
        "            self.n -= 1\n",
        "          else:\n",
        "            raise IndexError(\"El index de la fila esta fuera del rango.\")\n",
        "        except TypeError as e:\n",
        "            print(f\"Error: {e}\")\n",
        "\n",
        "    def quitacolumna(self, col_index):\n",
        "        try:\n",
        "          if 0 <= col_index < self.m:\n",
        "            for row in self.matriz:\n",
        "                del row[col_index]\n",
        "            self.m -= 1\n",
        "          else:\n",
        "            raise IndexError(\"El index de la columna esta fuera del rango.\")\n",
        "        except TypeError as e:\n",
        "            print(f\"Error: {e}\")\n",
        "\n",
        "    def __mul__(self, other):\n",
        "        try:\n",
        "          if isinstance(other, Matriz):\n",
        "            if self.m == other.n:\n",
        "                result = Matriz(self.n, other.m)\n",
        "                result.matriz = [[sum(self.matriz[i][k] * other.matriz[k][j] for k in range(self.m)) for j in range(other.m)] for i in range(self.n)]\n",
        "                return result\n",
        "            else:\n",
        "                raise ValueError(\"Las dimensiones de las matrices no son válidas para una multiplicación.\")\n",
        "          elif isinstance(other, (int, float)):\n",
        "            result = Matriz(self.n, self.m)\n",
        "            result.matriz = [[self.matriz[i][j] * other for j in range(self.m)] for i in range(self.n)]\n",
        "            return result\n",
        "          else:\n",
        "            raise ValueError(\"Operando no válido para la multiplicación.\")\n",
        "        except TypeError as e:\n",
        "            print(f\"Error: {e}\")\n",
        "\n",
        "    def __rmul__(self, other):\n",
        "        try:\n",
        "          if isinstance(other, (int, float)):\n",
        "            result = Matriz(self.n, self.m)\n",
        "            result.matriz = [[self.matriz[i][j] * other for j in range(self.m)] for i in range(self.n)]\n",
        "            return result\n",
        "          else:\n",
        "            raise ValueError(\"Operando no válido para la multiplicación.\")\n",
        "        except TypeError as e:\n",
        "            print(f\"Error: {e}\")\n"
      ]
    },
    {
      "cell_type": "code",
      "execution_count": 29,
      "metadata": {
        "id": "Cdn9EOASMrVJ",
        "colab": {
          "base_uri": "https://localhost:8080/"
        },
        "outputId": "5390e11c-964d-45ee-df61-c0fda14f4c4b"
      },
      "outputs": [
        {
          "output_type": "stream",
          "name": "stdout",
          "text": [
            "A =\n",
            " 0 0 0 0\n",
            "0 0 0 0\n",
            "0 0 0 0 \n",
            "\n",
            "A =\n",
            " None \n",
            "\n",
            "B =\n",
            " 1 0 0 0\n",
            "0 1 0 0\n",
            "0 0 1 0\n",
            "0 0 0 1 \n",
            "\n",
            "C =\n",
            " 1\n",
            "1\n",
            "1\n",
            "1 \n",
            "\n",
            "D = \n",
            " 3\n",
            "3\n",
            "3\n",
            "3 \n",
            "\n",
            "Las matrices no son del mismo tamaño\n",
            "E =  None\n"
          ]
        }
      ],
      "source": [
        "# Realiza las pruebas a la clase aquí\n",
        "A = Matriz(n=3, m=4)\n",
        "print('A =\\n', A,'\\n')\n",
        "\n",
        "A = A.quitafila(2)\n",
        "print('A =\\n', A,'\\n')\n",
        "\n",
        "B = Matriz(4,4,'diag')\n",
        "print('B =\\n', B, '\\n')\n",
        "\n",
        "C = Matriz(4,1,'unos')\n",
        "print('C =\\n', C , '\\n')\n",
        "\n",
        "D = 3 * B * C\n",
        "print('D = \\n', D, '\\n')\n",
        "\n",
        "E = 3 * B + C\n",
        "print('E = ', E)"
      ]
    },
    {
      "cell_type": "code",
      "source": [],
      "metadata": {
        "id": "UNPxAhjMVtr1"
      },
      "execution_count": 29,
      "outputs": []
    }
  ],
  "metadata": {
    "kernelspec": {
      "display_name": "ing-caract",
      "language": "python",
      "name": "python3"
    },
    "language_info": {
      "codemirror_mode": {
        "name": "ipython",
        "version": 3
      },
      "file_extension": ".py",
      "mimetype": "text/x-python",
      "name": "python",
      "nbconvert_exporter": "python",
      "pygments_lexer": "ipython3",
      "version": "3.8.13"
    },
    "orig_nbformat": 4,
    "colab": {
      "provenance": []
    }
  },
  "nbformat": 4,
  "nbformat_minor": 0
}